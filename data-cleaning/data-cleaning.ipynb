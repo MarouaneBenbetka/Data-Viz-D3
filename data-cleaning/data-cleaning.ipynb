{
 "cells": [
  {
   "cell_type": "code",
   "execution_count": 383,
   "metadata": {},
   "outputs": [],
   "source": [
    "import pandas as pd\n",
    "import numpy as np\n",
    "from matplotlib import pyplot as plt"
   ]
  },
  {
   "cell_type": "code",
   "execution_count": 384,
   "metadata": {},
   "outputs": [
    {
     "data": {
      "text/html": [
       "<div>\n",
       "<style scoped>\n",
       "    .dataframe tbody tr th:only-of-type {\n",
       "        vertical-align: middle;\n",
       "    }\n",
       "\n",
       "    .dataframe tbody tr th {\n",
       "        vertical-align: top;\n",
       "    }\n",
       "\n",
       "    .dataframe thead th {\n",
       "        text-align: right;\n",
       "    }\n",
       "</style>\n",
       "<table border=\"1\" class=\"dataframe\">\n",
       "  <thead>\n",
       "    <tr style=\"text-align: right;\">\n",
       "      <th></th>\n",
       "      <th>Horodateur</th>\n",
       "      <th>Score total</th>\n",
       "      <th>1.sexe</th>\n",
       "      <th>1.sexe [Score]</th>\n",
       "      <th>1.sexe [Commentaires]</th>\n",
       "      <th>2.wilaya</th>\n",
       "      <th>2.wilaya [Score]</th>\n",
       "      <th>2.wilaya [Commentaires]</th>\n",
       "      <th>2.Quel âge avez-vous ?</th>\n",
       "      <th>2.Quel âge avez-vous ?\\t\\t [Score]</th>\n",
       "      <th>...</th>\n",
       "      <th>23.Combien de temps avez-vous passé en position assise ou couchée lors d'une journée habituelle ?</th>\n",
       "      <th>23.Combien de temps avez-vous passé en position assise ou couchée lors d'une journée habituelle ? [Score]</th>\n",
       "      <th>23.Combien de temps avez-vous passé en position assise ou couchée lors d'une journée habituelle ? [Commentaires]</th>\n",
       "      <th>24.avez vous d'autres maladies chroniques dans la famille? diabète, la tension,</th>\n",
       "      <th>24.avez vous d'autres maladies chroniques dans la famille? diabète, la tension,  [Score]</th>\n",
       "      <th>24.avez vous d'autres maladies chroniques dans la famille? diabète, la tension,  [Commentaires]</th>\n",
       "      <th>25.si oui c'est quoi la maladies?</th>\n",
       "      <th>25.si oui c'est quoi la maladies? [Score]</th>\n",
       "      <th>25.si oui c'est quoi la maladies? [Commentaires]</th>\n",
       "      <th>Unnamed: 74</th>\n",
       "    </tr>\n",
       "  </thead>\n",
       "  <tbody>\n",
       "    <tr>\n",
       "      <th>0</th>\n",
       "      <td>2020/10/12 10:19:31 PM UTC+1</td>\n",
       "      <td>0.00 / 0</td>\n",
       "      <td>homme</td>\n",
       "      <td>-- / 0</td>\n",
       "      <td>NaN</td>\n",
       "      <td>NaN</td>\n",
       "      <td>NaN</td>\n",
       "      <td>NaN</td>\n",
       "      <td>37</td>\n",
       "      <td>-- / 0</td>\n",
       "      <td>...</td>\n",
       "      <td>8h</td>\n",
       "      <td>-- / 0</td>\n",
       "      <td>NaN</td>\n",
       "      <td>Assma tique</td>\n",
       "      <td>-- / 0</td>\n",
       "      <td>NaN</td>\n",
       "      <td>Asm</td>\n",
       "      <td>-- / 0</td>\n",
       "      <td>NaN</td>\n",
       "      <td>NaN</td>\n",
       "    </tr>\n",
       "    <tr>\n",
       "      <th>1</th>\n",
       "      <td>2020/10/12 10:25:06 PM UTC+1</td>\n",
       "      <td>0.00 / 0</td>\n",
       "      <td>homme</td>\n",
       "      <td>-- / 0</td>\n",
       "      <td>NaN</td>\n",
       "      <td>NaN</td>\n",
       "      <td>NaN</td>\n",
       "      <td>NaN</td>\n",
       "      <td>37</td>\n",
       "      <td>-- / 0</td>\n",
       "      <td>...</td>\n",
       "      <td>9h</td>\n",
       "      <td>-- / 0</td>\n",
       "      <td>NaN</td>\n",
       "      <td>Non</td>\n",
       "      <td>-- / 0</td>\n",
       "      <td>NaN</td>\n",
       "      <td>NaN</td>\n",
       "      <td>-- / 0</td>\n",
       "      <td>NaN</td>\n",
       "      <td>Option 1</td>\n",
       "    </tr>\n",
       "    <tr>\n",
       "      <th>2</th>\n",
       "      <td>2020/10/12 10:28:55 PM UTC+1</td>\n",
       "      <td>0.00 / 0</td>\n",
       "      <td>femme</td>\n",
       "      <td>-- / 0</td>\n",
       "      <td>NaN</td>\n",
       "      <td>NaN</td>\n",
       "      <td>NaN</td>\n",
       "      <td>NaN</td>\n",
       "      <td>64</td>\n",
       "      <td>-- / 0</td>\n",
       "      <td>...</td>\n",
       "      <td>9</td>\n",
       "      <td>-- / 0</td>\n",
       "      <td>NaN</td>\n",
       "      <td>oui</td>\n",
       "      <td>-- / 0</td>\n",
       "      <td>NaN</td>\n",
       "      <td>Diabète</td>\n",
       "      <td>-- / 0</td>\n",
       "      <td>NaN</td>\n",
       "      <td>Option 1</td>\n",
       "    </tr>\n",
       "    <tr>\n",
       "      <th>3</th>\n",
       "      <td>2020/10/12 10:29:54 PM UTC+1</td>\n",
       "      <td>0.00 / 0</td>\n",
       "      <td>homme</td>\n",
       "      <td>-- / 0</td>\n",
       "      <td>NaN</td>\n",
       "      <td>NaN</td>\n",
       "      <td>NaN</td>\n",
       "      <td>NaN</td>\n",
       "      <td>44</td>\n",
       "      <td>-- / 0</td>\n",
       "      <td>...</td>\n",
       "      <td>8h</td>\n",
       "      <td>-- / 0</td>\n",
       "      <td>NaN</td>\n",
       "      <td>Non</td>\n",
       "      <td>-- / 0</td>\n",
       "      <td>NaN</td>\n",
       "      <td>NaN</td>\n",
       "      <td>-- / 0</td>\n",
       "      <td>NaN</td>\n",
       "      <td>NaN</td>\n",
       "    </tr>\n",
       "    <tr>\n",
       "      <th>4</th>\n",
       "      <td>2020/10/12 10:36:22 PM UTC+1</td>\n",
       "      <td>0.00 / 0</td>\n",
       "      <td>homme</td>\n",
       "      <td>-- / 0</td>\n",
       "      <td>NaN</td>\n",
       "      <td>NaN</td>\n",
       "      <td>NaN</td>\n",
       "      <td>NaN</td>\n",
       "      <td>25</td>\n",
       "      <td>-- / 0</td>\n",
       "      <td>...</td>\n",
       "      <td>2h</td>\n",
       "      <td>-- / 0</td>\n",
       "      <td>NaN</td>\n",
       "      <td>Non</td>\n",
       "      <td>-- / 0</td>\n",
       "      <td>NaN</td>\n",
       "      <td>NaN</td>\n",
       "      <td>-- / 0</td>\n",
       "      <td>NaN</td>\n",
       "      <td>Option 1</td>\n",
       "    </tr>\n",
       "  </tbody>\n",
       "</table>\n",
       "<p>5 rows × 75 columns</p>\n",
       "</div>"
      ],
      "text/plain": [
       "                     Horodateur Score total 1.sexe 1.sexe [Score]  \\\n",
       "0  2020/10/12 10:19:31 PM UTC+1    0.00 / 0  homme         -- / 0   \n",
       "1  2020/10/12 10:25:06 PM UTC+1    0.00 / 0  homme         -- / 0   \n",
       "2  2020/10/12 10:28:55 PM UTC+1    0.00 / 0  femme         -- / 0   \n",
       "3  2020/10/12 10:29:54 PM UTC+1    0.00 / 0  homme         -- / 0   \n",
       "4  2020/10/12 10:36:22 PM UTC+1    0.00 / 0  homme         -- / 0   \n",
       "\n",
       "   1.sexe [Commentaires] 2.wilaya 2.wilaya [Score]  2.wilaya [Commentaires]  \\\n",
       "0                    NaN      NaN              NaN                      NaN   \n",
       "1                    NaN      NaN              NaN                      NaN   \n",
       "2                    NaN      NaN              NaN                      NaN   \n",
       "3                    NaN      NaN              NaN                      NaN   \n",
       "4                    NaN      NaN              NaN                      NaN   \n",
       "\n",
       "  2.Quel âge avez-vous ?                 2.Quel âge avez-vous ?\\t\\t [Score]  \\\n",
       "0                                     37                             -- / 0   \n",
       "1                                     37                             -- / 0   \n",
       "2                                     64                             -- / 0   \n",
       "3                                     44                             -- / 0   \n",
       "4                                     25                             -- / 0   \n",
       "\n",
       "   ...  \\\n",
       "0  ...   \n",
       "1  ...   \n",
       "2  ...   \n",
       "3  ...   \n",
       "4  ...   \n",
       "\n",
       "   23.Combien de temps avez-vous passé en position assise ou couchée lors d'une journée habituelle ?  \\\n",
       "0                                                 8h                                                   \n",
       "1                                                 9h                                                   \n",
       "2                                                  9                                                   \n",
       "3                                                 8h                                                   \n",
       "4                                                 2h                                                   \n",
       "\n",
       "  23.Combien de temps avez-vous passé en position assise ou couchée lors d'une journée habituelle ? [Score]  \\\n",
       "0                                             -- / 0                                                          \n",
       "1                                             -- / 0                                                          \n",
       "2                                             -- / 0                                                          \n",
       "3                                             -- / 0                                                          \n",
       "4                                             -- / 0                                                          \n",
       "\n",
       "  23.Combien de temps avez-vous passé en position assise ou couchée lors d'une journée habituelle ? [Commentaires]  \\\n",
       "0                                                NaN                                                                 \n",
       "1                                                NaN                                                                 \n",
       "2                                                NaN                                                                 \n",
       "3                                                NaN                                                                 \n",
       "4                                                NaN                                                                 \n",
       "\n",
       "   24.avez vous d'autres maladies chroniques dans la famille? diabète, la tension,   \\\n",
       "0                                       Assma tique                                   \n",
       "1                                                Non                                  \n",
       "2                                                oui                                  \n",
       "3                                                Non                                  \n",
       "4                                                Non                                  \n",
       "\n",
       "  24.avez vous d'autres maladies chroniques dans la famille? diabète, la tension,  [Score]  \\\n",
       "0                                             -- / 0                                         \n",
       "1                                             -- / 0                                         \n",
       "2                                             -- / 0                                         \n",
       "3                                             -- / 0                                         \n",
       "4                                             -- / 0                                         \n",
       "\n",
       "  24.avez vous d'autres maladies chroniques dans la famille? diabète, la tension,  [Commentaires]  \\\n",
       "0                                                NaN                                                \n",
       "1                                                NaN                                                \n",
       "2                                                NaN                                                \n",
       "3                                                NaN                                                \n",
       "4                                                NaN                                                \n",
       "\n",
       "   25.si oui c'est quoi la maladies?  \\\n",
       "0                                Asm   \n",
       "1                                NaN   \n",
       "2                            Diabète   \n",
       "3                                NaN   \n",
       "4                                NaN   \n",
       "\n",
       "  25.si oui c'est quoi la maladies? [Score]  \\\n",
       "0                                    -- / 0   \n",
       "1                                    -- / 0   \n",
       "2                                    -- / 0   \n",
       "3                                    -- / 0   \n",
       "4                                    -- / 0   \n",
       "\n",
       "  25.si oui c'est quoi la maladies? [Commentaires]  Unnamed: 74  \n",
       "0                                              NaN          NaN  \n",
       "1                                              NaN     Option 1  \n",
       "2                                              NaN     Option 1  \n",
       "3                                              NaN          NaN  \n",
       "4                                              NaN     Option 1  \n",
       "\n",
       "[5 rows x 75 columns]"
      ]
     },
     "execution_count": 384,
     "metadata": {},
     "output_type": "execute_result"
    }
   ],
   "source": [
    "PATH = './MNT.xlsx'\n",
    "df = pd.read_excel(PATH)\n",
    "df.head()"
   ]
  },
  {
   "cell_type": "code",
   "execution_count": 385,
   "metadata": {},
   "outputs": [
    {
     "data": {
      "text/plain": [
       "Index(['1.sexe', '2.wilaya', '2.Quel âge avez-vous ?                ',\n",
       "       '3.Quel est votre niveau d'étude \\t\\t\\t\\t',\n",
       "       '4.Quelles est votre activité  professionnelle                                 ',\n",
       "       '5.Fumez-vous actuellement des produits à base de tabac tels que cigarettes, cigares ?',\n",
       "       '6.si oui Fumez-vous quotidiennement ?',\n",
       "       '7.A quel âge avez-vous commencé à fumer?',\n",
       "       '8. Pourquoi avez-vous débuté à fumer?                                        ',\n",
       "       '9. souhaitez-vous arrêter de fumer?',\n",
       "       '9.avez-vous consommé une boisson alcoolisée?                                                                ',\n",
       "       '10.à quelle fréquence avez-vous bu au moins une boisson alcoolisée ?\"                                                                ',\n",
       "       '14.Habituellement, combien de jours par semaine consommez-vous des fruits ?',\n",
       "       '15.Habituellement, combien de jours par semaine consommez-vous des légumes ?',\n",
       "       ' 16.Quelle sorte de matière grasse (huile, beurre…)utilisez-vous le plus souvent pour la préparation des repas à la maison ?',\n",
       "       '17.Habituellement, combien de jours par semaine effectuez-vous des activités physiques?',\n",
       "       '18.vous inscrivez dans une salle de sport?',\n",
       "       '19.Est-ce que votre travail implique des activités physiques d'intensité modérée, comme une marche rapide ?',\n",
       "       '20.Est-ce que vous effectuez des trajets d’au moins 10 minutes à pied ou à vélo ?',\n",
       "       '21.Habituellement, combien de jours par semaine effectuez-vous des trajets d’au moins 30 minutes à pied ou à vélo ?',\n",
       "       '22.Est-ce que vous pratiquez des sports, du fitness ou des activités de loisirs pendant au moins dix minutes d'affilée ?',\n",
       "       '23.Combien de temps avez-vous passé en position assise ou couchée lors d'une journée habituelle ?',\n",
       "       '24.avez vous d'autres maladies chroniques dans la famille? diabète, la tension, ',\n",
       "       '25.si oui c'est quoi la maladies?'],\n",
       "      dtype='object')"
      ]
     },
     "execution_count": 385,
     "metadata": {},
     "output_type": "execute_result"
    }
   ],
   "source": [
    "# remove useless columns\n",
    "df.drop(columns=[col for col in df.columns if any([word in col for word in [\n",
    "        \"Score\", \"Commentaires\", \"Horodateur\", \"Unnamed\"]])], inplace=True)\n",
    "df.columns"
   ]
  },
  {
   "cell_type": "code",
   "execution_count": 386,
   "metadata": {},
   "outputs": [
    {
     "data": {
      "text/plain": [
       "Index(['sexe', 'wilaya', 'age', 'niveau_etude', 'activite', 'fumeur',\n",
       "       'fumeur_quotidien', 'age_debut_fumeur', 'raison_debut_fumeur',\n",
       "       'souhaite_arreter_fumer', 'consommation_alcol',\n",
       "       'frequence_consommation_alcol', 'frequence_consommation_fruit',\n",
       "       'frequence_consommation_legume', 'matiere_grasse', 'activite_physique',\n",
       "       'inscription_sport', 'activite_physique_travail',\n",
       "       'activite_physique_trajet1', 'activite_physique_trajet2', 'sport',\n",
       "       'temps_position_assise', 'maladie_chronique_famille_bool',\n",
       "       'maladie_chronique_famille'],\n",
       "      dtype='object')"
      ]
     },
     "execution_count": 386,
     "metadata": {},
     "output_type": "execute_result"
    }
   ],
   "source": [
    "# updating column names\n",
    "\n",
    "new_columns = {\n",
    "    \"1.sexe\" : \"sexe\",\n",
    "    \"2.wilaya\" : \"wilaya\",\n",
    "    \"2.Quel âge avez-vous ?                \": \"age\",\n",
    "    \"3.Quel est votre niveau d'étude \\t\\t\\t\\t\":\"niveau_etude\",\n",
    "    \"4.Quelles est votre activité  professionnelle                                 \": \"activite\",\n",
    "    \"5.Fumez-vous actuellement des produits à base de tabac tels que cigarettes, cigares ?\" : \"fumeur\",\n",
    "    \"6.si oui Fumez-vous quotidiennement ?\":\"fumeur_quotidien\",\n",
    "    \"7.A quel âge avez-vous commencé à fumer?\":\"age_debut_fumeur\",\n",
    "    \"8. Pourquoi avez-vous débuté à fumer?                                        \":\"raison_debut_fumeur\",\n",
    "    \"9. souhaitez-vous arrêter de fumer?\": \"souhaite_arreter_fumer\",\n",
    "    \"9.avez-vous consommé une boisson alcoolisée?                                                                \":\"consommation_alcol\",\n",
    "    '10.à quelle fréquence avez-vous bu au moins une boisson alcoolisée ?\"                                                                ': \"frequence_consommation_alcol\",\n",
    "    \"14.Habituellement, combien de jours par semaine consommez-vous des fruits ?\":\"frequence_consommation_fruit\",\n",
    "    \"15.Habituellement, combien de jours par semaine consommez-vous des légumes ?\":\"frequence_consommation_legume\",\n",
    "    \"15.Habituellement, combien de jours par semaine consommez-vous des légumes ?\":\"frequence_consommation_legume\",\n",
    "    \" 16.Quelle sorte de matière grasse (huile, beurre…)utilisez-vous le plus souvent pour la préparation des repas à la maison ?\":\"matiere_grasse\",\n",
    "    \"17.Habituellement, combien de jours par semaine effectuez-vous des activités physiques?\":\"activite_physique\",\n",
    "    \"18.vous inscrivez dans une salle de sport?\":\"inscription_sport\",\n",
    "    \"19.Est-ce que votre travail implique des activités physiques d'intensité modérée, comme une marche rapide ?\":\"activite_physique_travail\",\n",
    "    \"20.Est-ce que vous effectuez des trajets d’au moins 10 minutes à pied ou à vélo ?\":\"activite_physique_trajet1\",\n",
    "    \"21.Habituellement, combien de jours par semaine effectuez-vous des trajets d’au moins 30 minutes à pied ou à vélo ?\":\"activite_physique_trajet2\",\n",
    "    \"22.Est-ce que vous pratiquez des sports, du fitness ou des activités de loisirs pendant au moins dix minutes d'affilée ?\":\"sport\",\n",
    "    \"23.Combien de temps avez-vous passé en position assise ou couchée lors d'une journée habituelle ?\":\"temps_position_assise\",\n",
    "    \"24.avez vous d'autres maladies chroniques dans la famille? diabète, la tension, \":\"maladie_chronique_famille_bool\",\n",
    "    \"25.si oui c'est quoi la maladies?\":\"maladie_chronique_famille\",\n",
    "}\n",
    "\n",
    "df.rename(columns=new_columns, inplace=True)\n",
    "df.columns\n"
   ]
  },
  {
   "cell_type": "code",
   "execution_count": 387,
   "metadata": {},
   "outputs": [
    {
     "data": {
      "text/plain": [
       "wilaya\n",
       "Alger             36\n",
       "Constantine        8\n",
       "Tizi Ouzou         6\n",
       "Blida              6\n",
       "Jijel              4\n",
       "Chlef              2\n",
       "Mascara            2\n",
       "Batna              2\n",
       "Skikda             2\n",
       "Oum El Bouaghi     2\n",
       "Sidi Bel Abbes     1\n",
       "Tiaret             1\n",
       "Oran               1\n",
       "Setif              1\n",
       "Ouargla            1\n",
       "Bouira             1\n",
       "Bejaia             1\n",
       "Tlemcen            1\n",
       "Name: count, dtype: int64"
      ]
     },
     "execution_count": 387,
     "metadata": {},
     "output_type": "execute_result"
    }
   ],
   "source": [
    "# transformin wilaya names to french\n",
    "\n",
    "arabic_to_french = {\n",
    "    'ولاية الجزائر': 'Alger',\n",
    "    'ولاية قسنطينة': 'Constantine',\n",
    "    'ولاية تيزي وزو': 'Tizi Ouzou',\n",
    "    'ولاية البليدة': 'Blida',\n",
    "    'ولاية جيجل': 'Jijel',\n",
    "    'ولاية معسكر': 'Mascara',\n",
    "    'ولاية سكيكدة': 'Skikda',\n",
    "    'ولاية أم البواقي': 'Oum El Bouaghi',\n",
    "    'ولاية باتنة': 'Batna',\n",
    "    'ولاية الشلف': 'Chlef',\n",
    "    'ولاية تيارت': 'Tiaret',\n",
    "    'ولاية تلمسان': 'Tlemcen',\n",
    "    'ولاية بجاية': 'Bejaia',\n",
    "    'ولاية سطيف': 'Setif',\n",
    "    'ولاية سيدي بلعباس': 'Sidi Bel Abbes',\n",
    "    'ولاية البويرة': 'Bouira',\n",
    "    'ولاية ورقلة': 'Ouargla',\n",
    "    'ولاية وهران': 'Oran'\n",
    "}\n",
    "\n",
    "df['wilaya'] = df['wilaya'].map(arabic_to_french)\n",
    "df.value_counts(\"wilaya\")"
   ]
  },
  {
   "cell_type": "code",
   "execution_count": 388,
   "metadata": {},
   "outputs": [
    {
     "data": {
      "text/plain": [
       "age\n",
       "19.0    20\n",
       "21.0    14\n",
       "18.0    10\n",
       "20.0    10\n",
       "26.0     5\n",
       "23.0     5\n",
       "37.0     4\n",
       "27.0     4\n",
       "33.0     3\n",
       "35.0     3\n",
       "22.0     3\n",
       "25.0     3\n",
       "30.0     3\n",
       "32.0     3\n",
       "38.0     2\n",
       "28.0     2\n",
       "29.0     2\n",
       "24.0     2\n",
       "31.0     1\n",
       "48.0     1\n",
       "34.0     1\n",
       "64.0     1\n",
       "56.0     1\n",
       "44.0     1\n",
       "45.0     1\n",
       "Name: count, dtype: int64"
      ]
     },
     "execution_count": 388,
     "metadata": {},
     "output_type": "execute_result"
    }
   ],
   "source": [
    "# transforming age values to numeric\n",
    "\n",
    "df['age'] = df['age'].astype('str').str.replace('ans', '')\n",
    "df['age'] = pd.to_numeric(df['age'], errors='coerce')\n",
    "df['age'].value_counts()"
   ]
  },
  {
   "cell_type": "code",
   "execution_count": 389,
   "metadata": {},
   "outputs": [
    {
     "data": {
      "text/plain": [
       "niveau_etude\n",
       "universitaire       101\n",
       "école secondaire      3\n",
       "lycée                 2\n",
       "Name: count, dtype: int64"
      ]
     },
     "execution_count": 389,
     "metadata": {},
     "output_type": "execute_result"
    }
   ],
   "source": [
    "df[\"niveau_etude\"].value_counts()"
   ]
  },
  {
   "cell_type": "code",
   "execution_count": 390,
   "metadata": {},
   "outputs": [
    {
     "data": {
      "text/plain": [
       "age_debut_fumeur\n",
       "20.0    1\n",
       "25.0    1\n",
       "23.0    1\n",
       "15.0    1\n",
       "24.0    1\n",
       "12.0    1\n",
       "16.0    1\n",
       "19.0    1\n",
       "Name: count, dtype: int64"
      ]
     },
     "execution_count": 390,
     "metadata": {},
     "output_type": "execute_result"
    }
   ],
   "source": [
    "df['age_debut_fumeur'] = df['age_debut_fumeur'].astype('str').str.replace('ans', '')\n",
    "df['age_debut_fumeur'] = pd.to_numeric(df['age_debut_fumeur'], errors='coerce')\n",
    "df['age_debut_fumeur'].value_counts()"
   ]
  },
  {
   "cell_type": "code",
   "execution_count": 391,
   "metadata": {},
   "outputs": [
    {
     "data": {
      "text/plain": [
       "souhaite_arreter_fumer\n",
       "oui    8\n",
       "non    4\n",
       "Name: count, dtype: int64"
      ]
     },
     "execution_count": 391,
     "metadata": {},
     "output_type": "execute_result"
    }
   ],
   "source": [
    "df['souhaite_arreter_fumer']=df['souhaite_arreter_fumer'].astype('str').str.lower()\n",
    "df.loc[~df['souhaite_arreter_fumer'].isin(\n",
    "    [\"oui\", \"non\"]), 'souhaite_arreter_fumer'] = np.nan\n",
    "\n",
    "df['souhaite_arreter_fumer'].value_counts()"
   ]
  },
  {
   "cell_type": "code",
   "execution_count": 392,
   "metadata": {},
   "outputs": [
    {
     "data": {
      "text/plain": [
       "Index(['sexe', 'wilaya', 'age', 'niveau_etude', 'activite', 'fumeur',\n",
       "       'fumeur_quotidien', 'age_debut_fumeur', 'raison_debut_fumeur',\n",
       "       'souhaite_arreter_fumer', 'consommation_alcol',\n",
       "       'frequence_consommation_alcol', 'frequence_consommation_fruit',\n",
       "       'frequence_consommation_legume', 'matiere_grasse', 'activite_physique',\n",
       "       'inscription_sport', 'activite_physique_travail',\n",
       "       'activite_physique_trajet1', 'activite_physique_trajet2', 'sport',\n",
       "       'temps_position_assise', 'maladie_chronique_famille_bool',\n",
       "       'maladie_chronique_famille'],\n",
       "      dtype='object')"
      ]
     },
     "execution_count": 392,
     "metadata": {},
     "output_type": "execute_result"
    }
   ],
   "source": [
    "df.columns"
   ]
  },
  {
   "cell_type": "code",
   "execution_count": 393,
   "metadata": {},
   "outputs": [
    {
     "data": {
      "text/plain": [
       "inscription_sport\n",
       "non    88\n",
       "oui    18\n",
       "Name: count, dtype: int64"
      ]
     },
     "execution_count": 393,
     "metadata": {},
     "output_type": "execute_result"
    }
   ],
   "source": [
    "df[\"inscription_sport\"] =df[\"inscription_sport\"].apply(lambda x: \"non\" if x.lower() == \"non\" else   \"oui\" if x.strip() else np.nan)\n",
    "df[\"inscription_sport\"].value_counts()\n"
   ]
  },
  {
   "cell_type": "code",
   "execution_count": 394,
   "metadata": {},
   "outputs": [
    {
     "data": {
      "text/plain": [
       "sport\n",
       "non    62\n",
       "oui    44\n",
       "Name: count, dtype: int64"
      ]
     },
     "execution_count": 394,
     "metadata": {},
     "output_type": "execute_result"
    }
   ],
   "source": [
    "df[\"sport\"]=df[\"sport\"].str.lower()\n",
    "df[\"sport\"].value_counts()"
   ]
  },
  {
   "cell_type": "code",
   "execution_count": 395,
   "metadata": {},
   "outputs": [
    {
     "data": {
      "text/plain": [
       "maladie_chronique_famille_bool\n",
       "oui    74\n",
       "non    32\n",
       "Name: count, dtype: int64"
      ]
     },
     "execution_count": 395,
     "metadata": {},
     "output_type": "execute_result"
    }
   ],
   "source": [
    "df[\"maladie_chronique_famille_bool\"] = df[\"maladie_chronique_famille_bool\"].apply(lambda x: \"non\" if x.lower() == \"non\" else  \"oui\" if x.strip() else np.nan)\n",
    "df[\"maladie_chronique_famille_bool\"].value_counts()"
   ]
  },
  {
   "cell_type": "code",
   "execution_count": 396,
   "metadata": {},
   "outputs": [
    {
     "data": {
      "text/plain": [
       "temps_position_assise\n",
       "8         14\n",
       "10         5\n",
       "2          3\n",
       "8          3\n",
       "0.0        3\n",
       "6          3\n",
       "10.0       3\n",
       "6          3\n",
       "15.0       3\n",
       "2          3\n",
       "9          2\n",
       "16         2\n",
       "20         2\n",
       "7          2\n",
       "14         2\n",
       "10         2\n",
       "5.0        2\n",
       "5          1\n",
       "15         1\n",
       " 2         1\n",
       "17         1\n",
       "8.5        1\n",
       "4.5        1\n",
       "15         1\n",
       "10.5       1\n",
       " 12        1\n",
       "24         1\n",
       "28.0       1\n",
       "12         1\n",
       "7          1\n",
       "16.5       1\n",
       "24         1\n",
       "9.0        1\n",
       "22         1\n",
       "6.5        1\n",
       "  2        1\n",
       "3          1\n",
       "5          1\n",
       "8          1\n",
       "4          1\n",
       "4          1\n",
       "5 _ 6      1\n",
       "2          1\n",
       "7.5        1\n",
       "1          1\n",
       "Name: count, dtype: int64"
      ]
     },
     "execution_count": 396,
     "metadata": {},
     "output_type": "execute_result"
    }
   ],
   "source": [
    "import re\n",
    "\n",
    "def clean_temps_position_assise(value):\n",
    "    if value is np.nan :\n",
    "        return np.nan\n",
    "    value = str(value).lower().replace(\n",
    "        \"heures\", \"\").replace(\"heure\", \"\").replace(\"h\", \"\").replace(\"ساعات\", \"\").replace(\"plus de\", \"\").replace(\"par jour\",\"\").replace(\"assise\",\"\").replace(\"et plus\",\"\")\n",
    "    \n",
    "    sep =  [\"+\", \"à\",\"-\",\"min\",\"ou\"]\n",
    "    for i,s in enumerate(sep):\n",
    "        if s in value:\n",
    "            values = [ ''.join(re.findall(r'\\d', x)) for x in value.split(sep[i]) if x.strip() ]\n",
    "            return  sum([ int(x) for x in values if x.isnumeric() ])/2\n",
    "\n",
    "    if \"la plupart du temps\" in value or \"toute la journée\" in value or \"la plupart de mon temps\" in value:\n",
    "        return 15\n",
    "\n",
    "    if \"%\" in value : \n",
    "        return round(float(value.split(\"%\")[0])/100*24)\n",
    "    \n",
    "    return value\n",
    "    \n",
    "\n",
    "\n",
    "df[\"temps_position_assise\"] = df[\"temps_position_assise\"].apply(clean_temps_position_assise)\n",
    "df[\"temps_position_assise\"].value_counts()"
   ]
  },
  {
   "cell_type": "code",
   "execution_count": 397,
   "metadata": {},
   "outputs": [
    {
     "data": {
      "text/plain": [
       "(maladie_chronique_famille\n",
       " diabete                           29\n",
       " la tension(HTA)                   19\n",
       " asthmatique                        4\n",
       " La tension                         2\n",
       " Diabète                            2\n",
       " Hta                                1\n",
       " les trois                          1\n",
       " Diabète, tension, ...              1\n",
       " les 3                              1\n",
       " Diabete et hta                     1\n",
       " Diabete rension...                 1\n",
       " Asm                                1\n",
       " mon père                           1\n",
       " diabétique et asmatique            1\n",
       " la tension,Insuffisance rénale     1\n",
       " Diabète.. la tention               1\n",
       " HTA                                1\n",
       " Diabète                            1\n",
       " القلب                              1\n",
       " Maladies cardiaques                1\n",
       " Name: count, dtype: int64,\n",
       "       sexe   wilaya   age      niveau_etude                  activite fumeur  \\\n",
       " 0    homme      NaN  37.0     universitaire      Employé(e) de l’Etat    Non   \n",
       " 1    homme      NaN  37.0     universitaire      Employé(e) de l’Etat    oui   \n",
       " 2    femme      NaN  64.0  école secondaire               chomeur(se)    Non   \n",
       " 3    homme      NaN  44.0  école secondaire  Employé(e) dans le privé    oui   \n",
       " 4    homme      NaN  25.0     universitaire                  étudiant    Non   \n",
       " ..     ...      ...   ...               ...                       ...    ...   \n",
       " 101  homme    Chlef  20.0     universitaire                  étudiant    oui   \n",
       " 102  homme  Mascara  24.0     universitaire                  étudiant    Non   \n",
       " 103  femme    Alger  20.0     universitaire                  étudiant    Non   \n",
       " 104  homme   Skikda  23.0     universitaire                  étudiant    Non   \n",
       " 105  homme    Alger  19.0     universitaire                  étudiant    Non   \n",
       " \n",
       "     fumeur_quotidien  age_debut_fumeur raison_debut_fumeur  \\\n",
       " 0                NaN               NaN                 NaN   \n",
       " 1                oui              20.0           curiosité   \n",
       " 2                Non               NaN               autre   \n",
       " 3                oui              25.0           curiosité   \n",
       " 4                Non               NaN                 NaN   \n",
       " ..               ...               ...                 ...   \n",
       " 101              oui              19.0               autre   \n",
       " 102              Non               NaN                 NaN   \n",
       " 103              Non               NaN                 NaN   \n",
       " 104              NaN               NaN                 NaN   \n",
       " 105              NaN               NaN                 NaN   \n",
       " \n",
       "     souhaite_arreter_fumer  ...  matiere_grasse activite_physique  \\\n",
       " 0                      NaN  ...  Huile végétale                 5   \n",
       " 1                      oui  ...  Huile végétale                 3   \n",
       " 2                      oui  ...  Huile végétale                 5   \n",
       " 3                      oui  ...  Huile végétale                 1   \n",
       " 4                      NaN  ...       Zit ziton                 2   \n",
       " ..                     ...  ...             ...               ...   \n",
       " 101                    non  ...  Huile végétale                 4   \n",
       " 102                    NaN  ...  Huile végétale                 3   \n",
       " 103                    NaN  ...       Margarine                 2   \n",
       " 104                    NaN  ...  Huile végétale                 4   \n",
       " 105                    NaN  ...  Huile végétale                 0   \n",
       " \n",
       "      inscription_sport  activite_physique_travail activite_physique_trajet1  \\\n",
       " 0                  non                        oui                       oui   \n",
       " 1                  oui                        oui                       oui   \n",
       " 2                  non                        oui                       oui   \n",
       " 3                  non                        Non                       oui   \n",
       " 4                  non                        Non                       Non   \n",
       " ..                 ...                        ...                       ...   \n",
       " 101                oui                        Non                       oui   \n",
       " 102                non                        Non                       oui   \n",
       " 103                non                        Non                       oui   \n",
       " 104                oui                        oui                       Non   \n",
       " 105                non                        Non                       oui   \n",
       " \n",
       "      activite_physique_trajet2 sport temps_position_assise  \\\n",
       " 0                            5   non                     8   \n",
       " 1                            3   oui                     9   \n",
       " 2                            4   non                     9   \n",
       " 3                            3   non                     8   \n",
       " 4                            3   oui                     2   \n",
       " ..                         ...   ...                   ...   \n",
       " 101                          4   oui                    15   \n",
       " 102                          1   oui                     8   \n",
       " 103                          0   oui                   NaN   \n",
       " 104                          4   oui                     1   \n",
       " 105                          2   non                  10.0   \n",
       " \n",
       "     maladie_chronique_famille_bool  maladie_chronique_famille  \n",
       " 0                              oui                        Asm  \n",
       " 1                              non                        NaN  \n",
       " 2                              oui                    Diabète  \n",
       " 3                              non                        NaN  \n",
       " 4                              non                        NaN  \n",
       " ..                             ...                        ...  \n",
       " 101                            non                        NaN  \n",
       " 102                            non                        NaN  \n",
       " 103                            oui                    diabete  \n",
       " 104                            oui            la tension(HTA)  \n",
       " 105                            oui            la tension(HTA)  \n",
       " \n",
       " [106 rows x 24 columns])"
      ]
     },
     "execution_count": 397,
     "metadata": {},
     "output_type": "execute_result"
    }
   ],
   "source": [
    "df[\"maladie_chronique_famille\"].value_counts() , df"
   ]
  },
  {
   "cell_type": "code",
   "execution_count": 398,
   "metadata": {},
   "outputs": [],
   "source": [
    "df.to_excel(\"cleaned.xlsx\" ,index=False)"
   ]
  }
 ],
 "metadata": {
  "kernelspec": {
   "display_name": "base",
   "language": "python",
   "name": "python3"
  },
  "language_info": {
   "codemirror_mode": {
    "name": "ipython",
    "version": 3
   },
   "file_extension": ".py",
   "mimetype": "text/x-python",
   "name": "python",
   "nbconvert_exporter": "python",
   "pygments_lexer": "ipython3",
   "version": "3.11.5"
  }
 },
 "nbformat": 4,
 "nbformat_minor": 2
}
