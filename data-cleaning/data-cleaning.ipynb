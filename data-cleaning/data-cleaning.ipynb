{
 "cells": [
  {
   "cell_type": "code",
   "execution_count": 1,
   "metadata": {},
   "outputs": [],
   "source": [
    "import pandas as pd\n",
    "import numpy as np\n",
    "from matplotlib import pyplot as plt"
   ]
  },
  {
   "cell_type": "code",
   "execution_count": 2,
   "metadata": {},
   "outputs": [
    {
     "data": {
      "text/plain": [
       "(106, 75)"
      ]
     },
     "execution_count": 2,
     "metadata": {},
     "output_type": "execute_result"
    }
   ],
   "source": [
    "PATH = './MNT.xlsx'\n",
    "df = pd.read_excel(PATH)\n",
    "df.shape"
   ]
  },
  {
   "cell_type": "code",
   "execution_count": 3,
   "metadata": {},
   "outputs": [
    {
     "data": {
      "text/plain": [
       "Index(['1.sexe', '2.wilaya', '2.Quel âge avez-vous ?                ',\n",
       "       '3.Quel est votre niveau d'étude \\t\\t\\t\\t',\n",
       "       '4.Quelles est votre activité  professionnelle                                 ',\n",
       "       '5.Fumez-vous actuellement des produits à base de tabac tels que cigarettes, cigares ?',\n",
       "       '6.si oui Fumez-vous quotidiennement ?',\n",
       "       '7.A quel âge avez-vous commencé à fumer?',\n",
       "       '8. Pourquoi avez-vous débuté à fumer?                                        ',\n",
       "       '9. souhaitez-vous arrêter de fumer?',\n",
       "       '9.avez-vous consommé une boisson alcoolisée?                                                                ',\n",
       "       '10.à quelle fréquence avez-vous bu au moins une boisson alcoolisée ?\"                                                                ',\n",
       "       '14.Habituellement, combien de jours par semaine consommez-vous des fruits ?',\n",
       "       '15.Habituellement, combien de jours par semaine consommez-vous des légumes ?',\n",
       "       ' 16.Quelle sorte de matière grasse (huile, beurre…)utilisez-vous le plus souvent pour la préparation des repas à la maison ?',\n",
       "       '17.Habituellement, combien de jours par semaine effectuez-vous des activités physiques?',\n",
       "       '18.vous inscrivez dans une salle de sport?',\n",
       "       '19.Est-ce que votre travail implique des activités physiques d'intensité modérée, comme une marche rapide ?',\n",
       "       '20.Est-ce que vous effectuez des trajets d’au moins 10 minutes à pied ou à vélo ?',\n",
       "       '21.Habituellement, combien de jours par semaine effectuez-vous des trajets d’au moins 30 minutes à pied ou à vélo ?',\n",
       "       '22.Est-ce que vous pratiquez des sports, du fitness ou des activités de loisirs pendant au moins dix minutes d'affilée ?',\n",
       "       '23.Combien de temps avez-vous passé en position assise ou couchée lors d'une journée habituelle ?',\n",
       "       '24.avez vous d'autres maladies chroniques dans la famille? diabète, la tension, ',\n",
       "       '25.si oui c'est quoi la maladies?'],\n",
       "      dtype='object')"
      ]
     },
     "execution_count": 3,
     "metadata": {},
     "output_type": "execute_result"
    }
   ],
   "source": [
    "# remove useless columns\n",
    "df.drop(columns=[col for col in df.columns if any([word in col for word in [\n",
    "        \"Score\", \"Commentaires\", \"Horodateur\", \"Unnamed\"]])], inplace=True)\n",
    "df.columns"
   ]
  },
  {
   "cell_type": "code",
   "execution_count": 4,
   "metadata": {},
   "outputs": [
    {
     "data": {
      "text/plain": [
       "Index(['sexe', 'wilaya', 'age', 'niveau_etude', 'activite', 'fumeur',\n",
       "       'fumeur_quotidien', 'age_debut_fumeur', 'raison_debut_fumeur',\n",
       "       'souhaite_arreter_fumer', 'consommation_alcol',\n",
       "       'frequence_consommation_alcol', 'frequence_consommation_fruit',\n",
       "       'frequence_consommation_legume', 'matiere_grasse', 'activite_physique',\n",
       "       'inscription_sport', 'activite_physique_travail',\n",
       "       'activite_physique_trajet1', 'activite_physique_trajet2', 'sport',\n",
       "       'temps_position_assise', 'maladie_chronique_famille_bool',\n",
       "       'maladie_chronique_famille'],\n",
       "      dtype='object')"
      ]
     },
     "execution_count": 4,
     "metadata": {},
     "output_type": "execute_result"
    }
   ],
   "source": [
    "# updating column names\n",
    "\n",
    "new_columns = {\n",
    "    \"1.sexe\" : \"sexe\",\n",
    "    \"2.wilaya\" : \"wilaya\",\n",
    "    \"2.Quel âge avez-vous ?                \": \"age\",\n",
    "    \"3.Quel est votre niveau d'étude \\t\\t\\t\\t\":\"niveau_etude\",\n",
    "    \"4.Quelles est votre activité  professionnelle                                 \": \"activite\",\n",
    "    \"5.Fumez-vous actuellement des produits à base de tabac tels que cigarettes, cigares ?\" : \"fumeur\",\n",
    "    \"6.si oui Fumez-vous quotidiennement ?\":\"fumeur_quotidien\",\n",
    "    \"7.A quel âge avez-vous commencé à fumer?\":\"age_debut_fumeur\",\n",
    "    \"8. Pourquoi avez-vous débuté à fumer?                                        \":\"raison_debut_fumeur\",\n",
    "    \"9. souhaitez-vous arrêter de fumer?\": \"souhaite_arreter_fumer\",\n",
    "    \"9.avez-vous consommé une boisson alcoolisée?                                                                \":\"consommation_alcol\",\n",
    "    '10.à quelle fréquence avez-vous bu au moins une boisson alcoolisée ?\"                                                                ': \"frequence_consommation_alcol\",\n",
    "    \"14.Habituellement, combien de jours par semaine consommez-vous des fruits ?\":\"frequence_consommation_fruit\",\n",
    "    \"15.Habituellement, combien de jours par semaine consommez-vous des légumes ?\":\"frequence_consommation_legume\",\n",
    "    \"15.Habituellement, combien de jours par semaine consommez-vous des légumes ?\":\"frequence_consommation_legume\",\n",
    "    \" 16.Quelle sorte de matière grasse (huile, beurre…)utilisez-vous le plus souvent pour la préparation des repas à la maison ?\":\"matiere_grasse\",\n",
    "    \"17.Habituellement, combien de jours par semaine effectuez-vous des activités physiques?\":\"activite_physique\",\n",
    "    \"18.vous inscrivez dans une salle de sport?\":\"inscription_sport\",\n",
    "    \"19.Est-ce que votre travail implique des activités physiques d'intensité modérée, comme une marche rapide ?\":\"activite_physique_travail\",\n",
    "    \"20.Est-ce que vous effectuez des trajets d’au moins 10 minutes à pied ou à vélo ?\":\"activite_physique_trajet1\",\n",
    "    \"21.Habituellement, combien de jours par semaine effectuez-vous des trajets d’au moins 30 minutes à pied ou à vélo ?\":\"activite_physique_trajet2\",\n",
    "    \"22.Est-ce que vous pratiquez des sports, du fitness ou des activités de loisirs pendant au moins dix minutes d'affilée ?\":\"sport\",\n",
    "    \"23.Combien de temps avez-vous passé en position assise ou couchée lors d'une journée habituelle ?\":\"temps_position_assise\",\n",
    "    \"24.avez vous d'autres maladies chroniques dans la famille? diabète, la tension, \":\"maladie_chronique_famille_bool\",\n",
    "    \"25.si oui c'est quoi la maladies?\":\"maladie_chronique_famille\",\n",
    "}\n",
    "\n",
    "df.rename(columns=new_columns, inplace=True)\n",
    "df.columns\n"
   ]
  },
  {
   "cell_type": "code",
   "execution_count": 5,
   "metadata": {},
   "outputs": [
    {
     "data": {
      "text/plain": [
       "wilaya\n",
       "Alger             36\n",
       "Constantine        8\n",
       "Tizi Ouzou         6\n",
       "Blida              6\n",
       "Jijel              4\n",
       "Chlef              2\n",
       "Mascara            2\n",
       "Batna              2\n",
       "Skikda             2\n",
       "Oum El Bouaghi     2\n",
       "Sidi Bel Abbes     1\n",
       "Tiaret             1\n",
       "Oran               1\n",
       "Setif              1\n",
       "Ouargla            1\n",
       "Bouira             1\n",
       "Bejaia             1\n",
       "Tlemcen            1\n",
       "Name: count, dtype: int64"
      ]
     },
     "execution_count": 5,
     "metadata": {},
     "output_type": "execute_result"
    }
   ],
   "source": [
    "# transformin wilaya names to french\n",
    "\n",
    "arabic_to_french = {\n",
    "    'ولاية الجزائر': 'Alger',\n",
    "    'ولاية قسنطينة': 'Constantine',\n",
    "    'ولاية تيزي وزو': 'Tizi Ouzou',\n",
    "    'ولاية البليدة': 'Blida',\n",
    "    'ولاية جيجل': 'Jijel',\n",
    "    'ولاية معسكر': 'Mascara',\n",
    "    'ولاية سكيكدة': 'Skikda',\n",
    "    'ولاية أم البواقي': 'Oum El Bouaghi',\n",
    "    'ولاية باتنة': 'Batna',\n",
    "    'ولاية الشلف': 'Chlef',\n",
    "    'ولاية تيارت': 'Tiaret',\n",
    "    'ولاية تلمسان': 'Tlemcen',\n",
    "    'ولاية بجاية': 'Bejaia',\n",
    "    'ولاية سطيف': 'Setif',\n",
    "    'ولاية سيدي بلعباس': 'Sidi Bel Abbes',\n",
    "    'ولاية البويرة': 'Bouira',\n",
    "    'ولاية ورقلة': 'Ouargla',\n",
    "    'ولاية وهران': 'Oran'\n",
    "}\n",
    "\n",
    "df['wilaya'] = df['wilaya'].map(arabic_to_french)\n",
    "df.value_counts(\"wilaya\")"
   ]
  },
  {
   "cell_type": "code",
   "execution_count": 6,
   "metadata": {},
   "outputs": [
    {
     "data": {
      "text/plain": [
       "age\n",
       "19.0    20\n",
       "21.0    14\n",
       "18.0    10\n",
       "20.0    10\n",
       "26.0     5\n",
       "23.0     5\n",
       "37.0     4\n",
       "27.0     4\n",
       "33.0     3\n",
       "35.0     3\n",
       "22.0     3\n",
       "25.0     3\n",
       "30.0     3\n",
       "32.0     3\n",
       "38.0     2\n",
       "28.0     2\n",
       "29.0     2\n",
       "24.0     2\n",
       "31.0     1\n",
       "48.0     1\n",
       "34.0     1\n",
       "64.0     1\n",
       "56.0     1\n",
       "44.0     1\n",
       "45.0     1\n",
       "Name: count, dtype: int64"
      ]
     },
     "execution_count": 6,
     "metadata": {},
     "output_type": "execute_result"
    }
   ],
   "source": [
    "# transforming age values to numeric\n",
    "\n",
    "df['age'] = df['age'].astype('str').str.replace('ans', '')\n",
    "df['age'] = pd.to_numeric(df['age'], errors='coerce')\n",
    "df['age'].value_counts()"
   ]
  },
  {
   "cell_type": "code",
   "execution_count": 7,
   "metadata": {},
   "outputs": [
    {
     "data": {
      "text/plain": [
       "niveau_etude\n",
       "universitaire       101\n",
       "école secondaire      3\n",
       "lycée                 2\n",
       "Name: count, dtype: int64"
      ]
     },
     "execution_count": 7,
     "metadata": {},
     "output_type": "execute_result"
    }
   ],
   "source": [
    "df[\"niveau_etude\"].value_counts()"
   ]
  },
  {
   "cell_type": "code",
   "execution_count": 8,
   "metadata": {},
   "outputs": [
    {
     "data": {
      "text/plain": [
       "age_debut_fumeur\n",
       "20.0    1\n",
       "25.0    1\n",
       "23.0    1\n",
       "15.0    1\n",
       "24.0    1\n",
       "12.0    1\n",
       "16.0    1\n",
       "19.0    1\n",
       "Name: count, dtype: int64"
      ]
     },
     "execution_count": 8,
     "metadata": {},
     "output_type": "execute_result"
    }
   ],
   "source": [
    "df['age_debut_fumeur'] = df['age_debut_fumeur'].astype('str').str.replace('ans', '')\n",
    "df['age_debut_fumeur'] = pd.to_numeric(df['age_debut_fumeur'], errors='coerce')\n",
    "df['age_debut_fumeur'].value_counts()"
   ]
  },
  {
   "cell_type": "code",
   "execution_count": 9,
   "metadata": {},
   "outputs": [
    {
     "data": {
      "text/plain": [
       "souhaite_arreter_fumer\n",
       "oui    8\n",
       "non    4\n",
       "Name: count, dtype: int64"
      ]
     },
     "execution_count": 9,
     "metadata": {},
     "output_type": "execute_result"
    }
   ],
   "source": [
    "df['souhaite_arreter_fumer']=df['souhaite_arreter_fumer'].astype('str').str.lower()\n",
    "df.loc[~df['souhaite_arreter_fumer'].isin(\n",
    "    [\"oui\", \"non\"]), 'souhaite_arreter_fumer'] = np.nan\n",
    "\n",
    "df['souhaite_arreter_fumer'].value_counts()"
   ]
  },
  {
   "cell_type": "code",
   "execution_count": 10,
   "metadata": {},
   "outputs": [
    {
     "data": {
      "text/plain": [
       "Index(['sexe', 'wilaya', 'age', 'niveau_etude', 'activite', 'fumeur',\n",
       "       'fumeur_quotidien', 'age_debut_fumeur', 'raison_debut_fumeur',\n",
       "       'souhaite_arreter_fumer', 'consommation_alcol',\n",
       "       'frequence_consommation_alcol', 'frequence_consommation_fruit',\n",
       "       'frequence_consommation_legume', 'matiere_grasse', 'activite_physique',\n",
       "       'inscription_sport', 'activite_physique_travail',\n",
       "       'activite_physique_trajet1', 'activite_physique_trajet2', 'sport',\n",
       "       'temps_position_assise', 'maladie_chronique_famille_bool',\n",
       "       'maladie_chronique_famille'],\n",
       "      dtype='object')"
      ]
     },
     "execution_count": 10,
     "metadata": {},
     "output_type": "execute_result"
    }
   ],
   "source": [
    "df.columns"
   ]
  },
  {
   "cell_type": "code",
   "execution_count": 11,
   "metadata": {},
   "outputs": [
    {
     "data": {
      "text/plain": [
       "inscription_sport\n",
       "non    88\n",
       "oui    18\n",
       "Name: count, dtype: int64"
      ]
     },
     "execution_count": 11,
     "metadata": {},
     "output_type": "execute_result"
    }
   ],
   "source": [
    "df[\"inscription_sport\"] =df[\"inscription_sport\"].apply(lambda x: \"non\" if x.lower() == \"non\" else   \"oui\" if x.strip() else np.nan)\n",
    "df[\"inscription_sport\"].value_counts()\n"
   ]
  },
  {
   "cell_type": "code",
   "execution_count": 12,
   "metadata": {},
   "outputs": [
    {
     "data": {
      "text/plain": [
       "sport\n",
       "non    62\n",
       "oui    44\n",
       "Name: count, dtype: int64"
      ]
     },
     "execution_count": 12,
     "metadata": {},
     "output_type": "execute_result"
    }
   ],
   "source": [
    "df[\"sport\"]=df[\"sport\"].str.lower()\n",
    "df[\"sport\"].value_counts()"
   ]
  },
  {
   "cell_type": "code",
   "execution_count": 13,
   "metadata": {},
   "outputs": [
    {
     "data": {
      "text/plain": [
       "maladie_chronique_famille_bool\n",
       "oui    74\n",
       "non    32\n",
       "Name: count, dtype: int64"
      ]
     },
     "execution_count": 13,
     "metadata": {},
     "output_type": "execute_result"
    }
   ],
   "source": [
    "df[\"maladie_chronique_famille_bool\"] = df[\"maladie_chronique_famille_bool\"].apply(lambda x: \"non\" if x.lower() == \"non\" else  \"oui\" if x.strip() else np.nan)\n",
    "df[\"maladie_chronique_famille_bool\"].value_counts()"
   ]
  },
  {
   "cell_type": "code",
   "execution_count": 14,
   "metadata": {},
   "outputs": [
    {
     "data": {
      "text/plain": [
       "temps_position_assise\n",
       "8         14\n",
       "10         5\n",
       "2          3\n",
       "8          3\n",
       "0.0        3\n",
       "6          3\n",
       "10.0       3\n",
       "6          3\n",
       "15.0       3\n",
       "2          3\n",
       "9          2\n",
       "16         2\n",
       "20         2\n",
       "7          2\n",
       "14         2\n",
       "10         2\n",
       "5.0        2\n",
       "5          1\n",
       "15         1\n",
       " 2         1\n",
       "17         1\n",
       "8.5        1\n",
       "4.5        1\n",
       "15         1\n",
       "10.5       1\n",
       " 12        1\n",
       "24         1\n",
       "28.0       1\n",
       "12         1\n",
       "7          1\n",
       "16.5       1\n",
       "24         1\n",
       "9.0        1\n",
       "22         1\n",
       "6.5        1\n",
       "  2        1\n",
       "3          1\n",
       "5          1\n",
       "8          1\n",
       "4          1\n",
       "4          1\n",
       "5 _ 6      1\n",
       "2          1\n",
       "7.5        1\n",
       "1          1\n",
       "Name: count, dtype: int64"
      ]
     },
     "execution_count": 14,
     "metadata": {},
     "output_type": "execute_result"
    }
   ],
   "source": [
    "import re\n",
    "\n",
    "def clean_temps_position_assise(value):\n",
    "    if value is np.nan :\n",
    "        return np.nan\n",
    "    value = str(value).lower().replace(\n",
    "        \"heures\", \"\").replace(\"heure\", \"\").replace(\"h\", \"\").replace(\"ساعات\", \"\").replace(\"plus de\", \"\").replace(\"par jour\",\"\").replace(\"assise\",\"\").replace(\"et plus\",\"\")\n",
    "    \n",
    "    sep =  [\"+\", \"à\",\"-\",\"min\",\"ou\",\" _ \"]\n",
    "    for i,s in enumerate(sep):\n",
    "        if s in value:\n",
    "            values = [ ''.join(re.findall(r'\\d', x)) for x in value.split(sep[i]) if x.strip() ]\n",
    "            return int( sum([ int(x) for x in values if x.isnumeric() ])/2 )\n",
    "\n",
    "    if \"la plupart du temps\" in value or \"toute la journée\" in value or \"la plupart de mon temps\" in value:\n",
    "        return 15\n",
    "\n",
    "    if \"%\" in value : \n",
    "        return round(float(value.split(\"%\")[0])/100*24)\n",
    "    \n",
    "    return int(value)\n",
    "    \n",
    "\n",
    "\n",
    "df[\"temps_position_assise\"] = df[\"temps_position_assise\"].apply(clean_temps_position_assise)\n",
    "df[\"temps_position_assise\"].value_counts()"
   ]
  },
  {
   "cell_type": "code",
   "execution_count": 108,
   "metadata": {},
   "outputs": [
    {
     "data": {
      "text/plain": [
       "maladie_chronique_famille\n",
       "None            35\n",
       "Diabetes        34\n",
       "Hypertension    26\n",
       "Asthma           6\n",
       "Others           5\n",
       "Name: count, dtype: int64"
      ]
     },
     "execution_count": 108,
     "metadata": {},
     "output_type": "execute_result"
    }
   ],
   "source": [
    "def clean_maladies(value):\n",
    "    if value is np.nan :\n",
    "        return \"None\"\n",
    "    value = str(value).lower()\n",
    "    if \"hta\" in value or \"tension\" in value or \"hypertension\" in value:\n",
    "        return \"Hypertension\"\n",
    "    elif \"diabete\" in value.replace(\"è\",\"e\") :\n",
    "        return \"Diabetes\"\n",
    "    elif \"asma\" in value or \"asthme\" in value or \"asthmatique\" in value or \"les trois\" in value:\n",
    "        return \"Asthma\"\n",
    "    elif \"aucune\" in value or \"non\" in value or value.strip() == \"\" or value.strip() == \"nan\" or value == np.nan:\n",
    "        return \"None\"\n",
    "    else:\n",
    "        return \"Others\"\n",
    "\n",
    "\n",
    "df[\"maladie_chronique_famille\"] = df[\"maladie_chronique_famille\"].apply(clean_maladies)  \n",
    "df[\"maladie_chronique_famille\"].value_counts() "
   ]
  },
  {
   "cell_type": "code",
   "execution_count": 109,
   "metadata": {},
   "outputs": [
    {
     "data": {
      "text/plain": [
       "matiere_grasse\n",
       "Huile végétale                 87\n",
       "Margarine                       7\n",
       "Beurre ou beurre allégé         5\n",
       "autre                           5\n",
       "Zit ziton                       1\n",
       "Margarine et huile végétale     1\n",
       "Name: count, dtype: int64"
      ]
     },
     "execution_count": 109,
     "metadata": {},
     "output_type": "execute_result"
    }
   ],
   "source": [
    "df[\"matiere_grasse\"].value_counts()"
   ]
  },
  {
   "cell_type": "code",
   "execution_count": 110,
   "metadata": {},
   "outputs": [],
   "source": [
    "def clean_huile(value):\n",
    "    if value is np.nan or \"beurre\" in value.lower() or \"margarine\" in value.lower() :\n",
    "        return \"Beurre\"\n",
    "    else :\n",
    "        return value\n",
    "    \n",
    "df[\"matiere_grasse\"] = df[\"matiere_grasse\"].apply(clean_huile)"
   ]
  },
  {
   "cell_type": "code",
   "execution_count": 111,
   "metadata": {},
   "outputs": [],
   "source": [
    "def categorize_age(value):\n",
    "\n",
    "    if value is np.nan or value < 20:\n",
    "        return \"<20 ans\"\n",
    "    elif value < 30:\n",
    "        return \"20-29 ans\"\n",
    "    elif value < 40:\n",
    "        return \"30-39 ans\"\n",
    "    else:\n",
    "        return \"plus de 40 ans\"\n"
   ]
  },
  {
   "cell_type": "code",
   "execution_count": 112,
   "metadata": {},
   "outputs": [],
   "source": [
    "def categorize_frequence(value):\n",
    "    if value in [0,1] or value is np.nan :\n",
    "        return \"Rarely\"\n",
    "    elif value in [2,3] :\n",
    "        return \"Occasionally\"\n",
    "    else :\n",
    "        return \"Frequently\"\n",
    "    \n",
    "df[\"frequence_consommation_fruit\"] = df[\"frequence_consommation_fruit\"].apply(categorize_frequence)\n",
    "df[\"frequence_consommation_legume\"] = df[\"frequence_consommation_legume\"].apply(categorize_frequence)\n",
    "df[\"activite_physique\"] = df[\"activite_physique\"].apply(\n",
    "    categorize_frequence)\n",
    "df[\"age\"] = df[\"age\"].apply(categorize_age)"
   ]
  },
  {
   "cell_type": "code",
   "execution_count": 113,
   "metadata": {},
   "outputs": [
    {
     "data": {
      "text/plain": [
       "Index(['sexe', 'wilaya', 'age', 'niveau_etude', 'activite', 'fumeur',\n",
       "       'fumeur_quotidien', 'age_debut_fumeur', 'raison_debut_fumeur',\n",
       "       'souhaite_arreter_fumer', 'consommation_alcol',\n",
       "       'frequence_consommation_alcol', 'frequence_consommation_fruit',\n",
       "       'frequence_consommation_legume', 'matiere_grasse', 'activite_physique',\n",
       "       'inscription_sport', 'activite_physique_travail',\n",
       "       'activite_physique_trajet1', 'activite_physique_trajet2', 'sport',\n",
       "       'temps_position_assise', 'maladie_chronique_famille_bool',\n",
       "       'maladie_chronique_famille'],\n",
       "      dtype='object')"
      ]
     },
     "execution_count": 113,
     "metadata": {},
     "output_type": "execute_result"
    }
   ],
   "source": [
    "\n",
    "df.columns"
   ]
  },
  {
   "cell_type": "code",
   "execution_count": 114,
   "metadata": {},
   "outputs": [],
   "source": [
    "\n",
    "def generated_group_csv(groupe_col,sexe):\n",
    "    desired_order = [groupe_col, 'Diabete',\n",
    "                     'Asthme', 'HTA', 'Autres', 'Aucune']\n",
    "\n",
    "    df_sexe = df[df[\"sexe\"]==sexe]\n",
    "    print(df[\"matiere_grasse\"].value_counts())\n",
    "    grouped_data = df_sexe.groupby(\n",
    "        [groupe_col, 'maladie_chronique_famille']).size().reset_index(name='count')\n",
    "    pivot_table = grouped_data.pivot_table(index=groupe_col,\n",
    "                                       columns='maladie_chronique_famille', values='count', aggfunc='sum', fill_value=0)\n",
    "    \n",
    "    df_rearranged = pivot_table[desired_order]\n",
    "    pivot_table.to_csv(f\"group_{groupe_col}_{sexe}.csv\")"
   ]
  },
  {
   "cell_type": "code",
   "execution_count": 115,
   "metadata": {},
   "outputs": [
    {
     "name": "stdout",
     "output_type": "stream",
     "text": [
      "matiere_grasse\n",
      "Huile végétale    87\n",
      "Beurre            13\n",
      "autre              5\n",
      "Zit ziton          1\n",
      "Name: count, dtype: int64\n"
     ]
    },
    {
     "ename": "KeyError",
     "evalue": "\"None of [Index(['activite_physique', 'Diabete', 'Asthme', 'HTA', 'Autres', 'Aucune'], dtype='object', name='maladie_chronique_famille')] are in the [columns]\"",
     "output_type": "error",
     "traceback": [
      "\u001b[1;31m---------------------------------------------------------------------------\u001b[0m",
      "\u001b[1;31mKeyError\u001b[0m                                  Traceback (most recent call last)",
      "Cell \u001b[1;32mIn [115], line 2\u001b[0m\n\u001b[0;32m      1\u001b[0m \u001b[38;5;28;01mfor\u001b[39;00m col \u001b[38;5;129;01min\u001b[39;00m [\u001b[38;5;124m\"\u001b[39m\u001b[38;5;124mactivite_physique\u001b[39m\u001b[38;5;124m\"\u001b[39m, \u001b[38;5;124m\"\u001b[39m\u001b[38;5;124mfrequence_consommation_legume\u001b[39m\u001b[38;5;124m\"\u001b[39m, \u001b[38;5;124m\"\u001b[39m\u001b[38;5;124mfrequence_consommation_fruit\u001b[39m\u001b[38;5;124m\"\u001b[39m, \u001b[38;5;124m\"\u001b[39m\u001b[38;5;124mmatiere_grasse\u001b[39m\u001b[38;5;124m\"\u001b[39m, \u001b[38;5;124m\"\u001b[39m\u001b[38;5;124mfumeur\u001b[39m\u001b[38;5;124m\"\u001b[39m, \u001b[38;5;124m\"\u001b[39m\u001b[38;5;124mactivite\u001b[39m\u001b[38;5;124m\"\u001b[39m,\u001b[38;5;124m\"\u001b[39m\u001b[38;5;124mage\u001b[39m\u001b[38;5;124m\"\u001b[39m]:\n\u001b[1;32m----> 2\u001b[0m     \u001b[43mgenerated_group_csv\u001b[49m\u001b[43m(\u001b[49m\u001b[43mcol\u001b[49m\u001b[43m,\u001b[49m\u001b[38;5;124;43m\"\u001b[39;49m\u001b[38;5;124;43mhomme\u001b[39;49m\u001b[38;5;124;43m\"\u001b[39;49m\u001b[43m)\u001b[49m\n\u001b[0;32m      3\u001b[0m     generated_group_csv(col, \u001b[38;5;124m\"\u001b[39m\u001b[38;5;124mfemme\u001b[39m\u001b[38;5;124m\"\u001b[39m)\n",
      "Cell \u001b[1;32mIn [114], line 12\u001b[0m, in \u001b[0;36mgenerated_group_csv\u001b[1;34m(groupe_col, sexe)\u001b[0m\n\u001b[0;32m      7\u001b[0m grouped_data \u001b[38;5;241m=\u001b[39m df_sexe\u001b[38;5;241m.\u001b[39mgroupby(\n\u001b[0;32m      8\u001b[0m     [groupe_col, \u001b[38;5;124m'\u001b[39m\u001b[38;5;124mmaladie_chronique_famille\u001b[39m\u001b[38;5;124m'\u001b[39m])\u001b[38;5;241m.\u001b[39msize()\u001b[38;5;241m.\u001b[39mreset_index(name\u001b[38;5;241m=\u001b[39m\u001b[38;5;124m'\u001b[39m\u001b[38;5;124mcount\u001b[39m\u001b[38;5;124m'\u001b[39m)\n\u001b[0;32m      9\u001b[0m pivot_table \u001b[38;5;241m=\u001b[39m grouped_data\u001b[38;5;241m.\u001b[39mpivot_table(index\u001b[38;5;241m=\u001b[39mgroupe_col,\n\u001b[0;32m     10\u001b[0m                                    columns\u001b[38;5;241m=\u001b[39m\u001b[38;5;124m'\u001b[39m\u001b[38;5;124mmaladie_chronique_famille\u001b[39m\u001b[38;5;124m'\u001b[39m, values\u001b[38;5;241m=\u001b[39m\u001b[38;5;124m'\u001b[39m\u001b[38;5;124mcount\u001b[39m\u001b[38;5;124m'\u001b[39m, aggfunc\u001b[38;5;241m=\u001b[39m\u001b[38;5;124m'\u001b[39m\u001b[38;5;124msum\u001b[39m\u001b[38;5;124m'\u001b[39m, fill_value\u001b[38;5;241m=\u001b[39m\u001b[38;5;241m0\u001b[39m)\n\u001b[1;32m---> 12\u001b[0m df_rearranged \u001b[38;5;241m=\u001b[39m \u001b[43mpivot_table\u001b[49m\u001b[43m[\u001b[49m\u001b[43mdesired_order\u001b[49m\u001b[43m]\u001b[49m\n\u001b[0;32m     13\u001b[0m pivot_table\u001b[38;5;241m.\u001b[39mto_csv(\u001b[38;5;124mf\u001b[39m\u001b[38;5;124m\"\u001b[39m\u001b[38;5;124mgroup_\u001b[39m\u001b[38;5;132;01m{\u001b[39;00mgroupe_col\u001b[38;5;132;01m}\u001b[39;00m\u001b[38;5;124m_\u001b[39m\u001b[38;5;132;01m{\u001b[39;00msexe\u001b[38;5;132;01m}\u001b[39;00m\u001b[38;5;124m.csv\u001b[39m\u001b[38;5;124m\"\u001b[39m)\n",
      "File \u001b[1;32mc:\\Users\\ASUS ROG\\anaconda3\\Lib\\site-packages\\pandas\\core\\frame.py:3767\u001b[0m, in \u001b[0;36mDataFrame.__getitem__\u001b[1;34m(self, key)\u001b[0m\n\u001b[0;32m   3765\u001b[0m     \u001b[38;5;28;01mif\u001b[39;00m is_iterator(key):\n\u001b[0;32m   3766\u001b[0m         key \u001b[38;5;241m=\u001b[39m \u001b[38;5;28mlist\u001b[39m(key)\n\u001b[1;32m-> 3767\u001b[0m     indexer \u001b[38;5;241m=\u001b[39m \u001b[38;5;28;43mself\u001b[39;49m\u001b[38;5;241;43m.\u001b[39;49m\u001b[43mcolumns\u001b[49m\u001b[38;5;241;43m.\u001b[39;49m\u001b[43m_get_indexer_strict\u001b[49m\u001b[43m(\u001b[49m\u001b[43mkey\u001b[49m\u001b[43m,\u001b[49m\u001b[43m \u001b[49m\u001b[38;5;124;43m\"\u001b[39;49m\u001b[38;5;124;43mcolumns\u001b[39;49m\u001b[38;5;124;43m\"\u001b[39;49m\u001b[43m)\u001b[49m[\u001b[38;5;241m1\u001b[39m]\n\u001b[0;32m   3769\u001b[0m \u001b[38;5;66;03m# take() does not accept boolean indexers\u001b[39;00m\n\u001b[0;32m   3770\u001b[0m \u001b[38;5;28;01mif\u001b[39;00m \u001b[38;5;28mgetattr\u001b[39m(indexer, \u001b[38;5;124m\"\u001b[39m\u001b[38;5;124mdtype\u001b[39m\u001b[38;5;124m\"\u001b[39m, \u001b[38;5;28;01mNone\u001b[39;00m) \u001b[38;5;241m==\u001b[39m \u001b[38;5;28mbool\u001b[39m:\n",
      "File \u001b[1;32mc:\\Users\\ASUS ROG\\anaconda3\\Lib\\site-packages\\pandas\\core\\indexes\\base.py:5877\u001b[0m, in \u001b[0;36mIndex._get_indexer_strict\u001b[1;34m(self, key, axis_name)\u001b[0m\n\u001b[0;32m   5874\u001b[0m \u001b[38;5;28;01melse\u001b[39;00m:\n\u001b[0;32m   5875\u001b[0m     keyarr, indexer, new_indexer \u001b[38;5;241m=\u001b[39m \u001b[38;5;28mself\u001b[39m\u001b[38;5;241m.\u001b[39m_reindex_non_unique(keyarr)\n\u001b[1;32m-> 5877\u001b[0m \u001b[38;5;28;43mself\u001b[39;49m\u001b[38;5;241;43m.\u001b[39;49m\u001b[43m_raise_if_missing\u001b[49m\u001b[43m(\u001b[49m\u001b[43mkeyarr\u001b[49m\u001b[43m,\u001b[49m\u001b[43m \u001b[49m\u001b[43mindexer\u001b[49m\u001b[43m,\u001b[49m\u001b[43m \u001b[49m\u001b[43maxis_name\u001b[49m\u001b[43m)\u001b[49m\n\u001b[0;32m   5879\u001b[0m keyarr \u001b[38;5;241m=\u001b[39m \u001b[38;5;28mself\u001b[39m\u001b[38;5;241m.\u001b[39mtake(indexer)\n\u001b[0;32m   5880\u001b[0m \u001b[38;5;28;01mif\u001b[39;00m \u001b[38;5;28misinstance\u001b[39m(key, Index):\n\u001b[0;32m   5881\u001b[0m     \u001b[38;5;66;03m# GH 42790 - Preserve name from an Index\u001b[39;00m\n",
      "File \u001b[1;32mc:\\Users\\ASUS ROG\\anaconda3\\Lib\\site-packages\\pandas\\core\\indexes\\base.py:5938\u001b[0m, in \u001b[0;36mIndex._raise_if_missing\u001b[1;34m(self, key, indexer, axis_name)\u001b[0m\n\u001b[0;32m   5936\u001b[0m     \u001b[38;5;28;01mif\u001b[39;00m use_interval_msg:\n\u001b[0;32m   5937\u001b[0m         key \u001b[38;5;241m=\u001b[39m \u001b[38;5;28mlist\u001b[39m(key)\n\u001b[1;32m-> 5938\u001b[0m     \u001b[38;5;28;01mraise\u001b[39;00m \u001b[38;5;167;01mKeyError\u001b[39;00m(\u001b[38;5;124mf\u001b[39m\u001b[38;5;124m\"\u001b[39m\u001b[38;5;124mNone of [\u001b[39m\u001b[38;5;132;01m{\u001b[39;00mkey\u001b[38;5;132;01m}\u001b[39;00m\u001b[38;5;124m] are in the [\u001b[39m\u001b[38;5;132;01m{\u001b[39;00maxis_name\u001b[38;5;132;01m}\u001b[39;00m\u001b[38;5;124m]\u001b[39m\u001b[38;5;124m\"\u001b[39m)\n\u001b[0;32m   5940\u001b[0m not_found \u001b[38;5;241m=\u001b[39m \u001b[38;5;28mlist\u001b[39m(ensure_index(key)[missing_mask\u001b[38;5;241m.\u001b[39mnonzero()[\u001b[38;5;241m0\u001b[39m]]\u001b[38;5;241m.\u001b[39munique())\n\u001b[0;32m   5941\u001b[0m \u001b[38;5;28;01mraise\u001b[39;00m \u001b[38;5;167;01mKeyError\u001b[39;00m(\u001b[38;5;124mf\u001b[39m\u001b[38;5;124m\"\u001b[39m\u001b[38;5;132;01m{\u001b[39;00mnot_found\u001b[38;5;132;01m}\u001b[39;00m\u001b[38;5;124m not in index\u001b[39m\u001b[38;5;124m\"\u001b[39m)\n",
      "\u001b[1;31mKeyError\u001b[0m: \"None of [Index(['activite_physique', 'Diabete', 'Asthme', 'HTA', 'Autres', 'Aucune'], dtype='object', name='maladie_chronique_famille')] are in the [columns]\""
     ]
    }
   ],
   "source": [
    "for col in [\"activite_physique\", \"frequence_consommation_legume\", \"frequence_consommation_fruit\", \"matiere_grasse\", \"fumeur\", \"activite\",\"age\"]:\n",
    "    generated_group_csv(col,\"homme\")\n",
    "    generated_group_csv(col, \"femme\")"
   ]
  },
  {
   "cell_type": "code",
   "execution_count": null,
   "metadata": {},
   "outputs": [],
   "source": []
  },
  {
   "cell_type": "code",
   "execution_count": null,
   "metadata": {},
   "outputs": [],
   "source": [
    "df.to_excel(\"cleaned.xlsx\" ,index=False)"
   ]
  }
 ],
 "metadata": {
  "kernelspec": {
   "display_name": "base",
   "language": "python",
   "name": "python3"
  },
  "language_info": {
   "codemirror_mode": {
    "name": "ipython",
    "version": 3
   },
   "file_extension": ".py",
   "mimetype": "text/x-python",
   "name": "python",
   "nbconvert_exporter": "python",
   "pygments_lexer": "ipython3",
   "version": "3.11.5"
  }
 },
 "nbformat": 4,
 "nbformat_minor": 2
}
